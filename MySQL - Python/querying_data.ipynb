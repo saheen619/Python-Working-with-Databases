{
 "cells": [
  {
   "cell_type": "markdown",
   "metadata": {},
   "source": [
    "# QUERYING DATA"
   ]
  },
  {
   "cell_type": "markdown",
   "metadata": {},
   "source": [
    "#### Documentation Example"
   ]
  },
  {
   "cell_type": "code",
   "execution_count": null,
   "metadata": {},
   "outputs": [],
   "source": [
    "import datetime\n",
    "import mysql.connector\n",
    "\n",
    "cnx = mysql.connector.connect(user='scott', database='employees')\n",
    "cursor = cnx.cursor()\n",
    "\n",
    "query = (\"SELECT first_name, last_name, hire_date FROM employees \"\n",
    "         \"WHERE hire_date BETWEEN %s AND %s\")\n",
    "\n",
    "hire_start = datetime.date(1999, 1, 1)\n",
    "hire_end = datetime.date(1999, 12, 31)\n",
    "\n",
    "cursor.execute(query, (hire_start, hire_end))\n",
    "\n",
    "for (first_name, last_name, hire_date) in cursor:\n",
    "  print(\"{}, {} was hired on {:%d %b %Y}\".format(\n",
    "    last_name, first_name, hire_date))\n",
    "\n",
    "cursor.close()\n",
    "cnx.close()"
   ]
  },
  {
   "cell_type": "markdown",
   "metadata": {},
   "source": [
    "#### Case 1"
   ]
  },
  {
   "cell_type": "code",
   "execution_count": 21,
   "metadata": {},
   "outputs": [
    {
     "name": "stdout",
     "output_type": "stream",
     "text": [
      "10308, 2, 15-09-2022, 3\n",
      "10309, 30, 16-09-2022, 1\n",
      "10310, 41, 19-09-2022, 2\n"
     ]
    }
   ],
   "source": [
    "import mysql.connector\n",
    "\n",
    "cnx = mysql.connector.connect(host = 'localhost', user = 'root', passwd = 'PASSWORD')\n",
    "cursor = cnx.cursor()\n",
    "\n",
    "query = (\"SELECT order_id, cust_id, order_dat, shipper_id FROM bigdatabootcamp.orders \")\n",
    "\n",
    "cursor.execute(query)\n",
    "\n",
    "for (order_id, cust_id, order_dat, shipper_id) in cursor:\n",
    "  print(\"{}, {}, {:%d-%m-%Y}, {}\".format(order_id, cust_id, order_dat, shipper_id))\n",
    "\n",
    "cursor.close()\n",
    "cnx.close()"
   ]
  },
  {
   "cell_type": "markdown",
   "metadata": {},
   "source": [
    "#### Case 2"
   ]
  },
  {
   "cell_type": "code",
   "execution_count": 14,
   "metadata": {},
   "outputs": [
    {
     "name": "stdout",
     "output_type": "stream",
     "text": [
      "4, Daryl is from city : Uniondale, state : NY and zip code : 11553\n",
      "171, Miriam is from city : Uniondale, state : NY and zip code : 11553\n",
      "296, Sophia is from city : Uniondale, state : NY and zip code : 11553\n",
      "375, Yan is from city : Uniondale, state : NY and zip code : 11553\n",
      "379, Mina is from city : Uniondale, state : NY and zip code : 11553\n",
      "494, Pearl is from city : Uniondale, state : NY and zip code : 11553\n",
      "909, Alita is from city : Uniondale, state : NY and zip code : 11553\n",
      "1189, Sheila is from city : Uniondale, state : NY and zip code : 11553\n",
      "1380, Eliz is from city : Uniondale, state : NY and zip code : 11553\n"
     ]
    }
   ],
   "source": [
    "import mysql.connector\n",
    "\n",
    "cnx = mysql.connector.connect(host = 'localhost', user = 'root', passwd = 'PASSWORD', database = \"bikestore_sales\")\n",
    "cursor = cnx.cursor()\n",
    "\n",
    "query = (\"SELECT customer_id, first_name, city, state, zip_code FROM customers \"\n",
    "         \"WHERE zip_code IN(%s)\")\n",
    "\n",
    "zip_code = [11553]\n",
    "\n",
    "cursor.execute(query, zip_code)\n",
    "\n",
    "for (customer_id, first_name, city, state, zip_code) in cursor:\n",
    "  print(\"{}, {} is from city : {}, state : {} and zip code : {}\".format(customer_id, first_name, city, state, zip_code))\n",
    "\n",
    "cursor.close()\n",
    "cnx.close()"
   ]
  },
  {
   "cell_type": "markdown",
   "metadata": {},
   "source": [
    "### cursor.fetchall()"
   ]
  },
  {
   "cell_type": "code",
   "execution_count": 1,
   "metadata": {},
   "outputs": [
    {
     "name": "stdout",
     "output_type": "stream",
     "text": [
      "4, Daryl is from city : Uniondale, state : NY and zip code : 11553\n",
      "171, Miriam is from city : Uniondale, state : NY and zip code : 11553\n",
      "296, Sophia is from city : Uniondale, state : NY and zip code : 11553\n",
      "375, Yan is from city : Uniondale, state : NY and zip code : 11553\n",
      "379, Mina is from city : Uniondale, state : NY and zip code : 11553\n",
      "494, Pearl is from city : Uniondale, state : NY and zip code : 11553\n",
      "909, Alita is from city : Uniondale, state : NY and zip code : 11553\n",
      "1189, Sheila is from city : Uniondale, state : NY and zip code : 11553\n",
      "1380, Eliz is from city : Uniondale, state : NY and zip code : 11553\n"
     ]
    }
   ],
   "source": [
    "import mysql.connector\n",
    "\n",
    "cnx = mysql.connector.connect(host = 'localhost', user = 'root', passwd = 'PASSWORD', database = \"bikestore_sales\")\n",
    "cursor = cnx.cursor()\n",
    "\n",
    "query = (\"SELECT customer_id, first_name, city, state, zip_code FROM customers \"\n",
    "         \"WHERE zip_code IN(%s)\")\n",
    "\n",
    "zip_code = [11553]\n",
    "\n",
    "cursor.execute(query, zip_code)\n",
    "\n",
    "result = cursor.fetchall()\n",
    "\n",
    "for (customer_id, first_name, city, state, zip_code) in result:\n",
    "  print(\"{}, {} is from city : {}, state : {} and zip code : {}\".format(customer_id, first_name, city, state, zip_code))\n",
    "\n",
    "cursor.close()\n",
    "cnx.close()"
   ]
  },
  {
   "cell_type": "markdown",
   "metadata": {},
   "source": [
    "### cursor.fetchone()"
   ]
  },
  {
   "cell_type": "code",
   "execution_count": 23,
   "metadata": {},
   "outputs": [
    {
     "name": "stdout",
     "output_type": "stream",
     "text": [
      "1\n",
      "14127\n"
     ]
    }
   ],
   "source": [
    "import mysql.connector\n",
    "\n",
    "cnx = mysql.connector.connect(host = 'localhost', user = 'root', passwd = 'PASSWORD', database = \"bikestore_sales\")\n",
    "cursor = cnx.cursor()\n",
    "\n",
    "query = (\"SELECT customer_id, zip_code FROM customers\")\n",
    "\n",
    "cursor.execute(query)\n",
    "\n",
    "result = cursor.fetchone()\n",
    "\n",
    "for row in result:\n",
    "  print(row)\n",
    "\n",
    "\n",
    "cnx.close()"
   ]
  },
  {
   "cell_type": "code",
   "execution_count": 33,
   "metadata": {},
   "outputs": [
    {
     "name": "stdout",
     "output_type": "stream",
     "text": [
      "(1, 'Debra', 'Burks', None, 'debra.burks@yahoo.com', '9273 Thorne Ave. ', 'Orchard Park', 'NY', '14127')\n",
      "(4, 'Daryl', 'Spence', None, 'daryl.spence@aol.com', '988 Pearl Lane ', 'Uniondale', 'NY', '11553')\n",
      "(6, 'Lyndsey', 'Bean', None, 'lyndsey.bean@hotmail.com', '769 West Road ', 'Fairport', 'NY', '14450')\n",
      "(7, 'Latasha', 'Hays', '(716) 986-3359', 'latasha.hays@hotmail.com', '7014 Manor Station Rd. ', 'Buffalo', 'NY', '14215')\n",
      "(8, 'Jacquline', 'Duncan', None, 'jacquline.duncan@yahoo.com', '15 Brown St. ', 'Jackson Heights', 'NY', '11372')\n"
     ]
    }
   ],
   "source": [
    "import mysql.connector\n",
    "\n",
    "cnx = mysql.connector.connect(host = 'localhost', user = 'root', passwd = 'PASSWORD', database = \"bikestore_sales\")\n",
    "cursor = cnx.cursor()\n",
    "\n",
    "query = (\"SELECT * FROM customers WHERE state='NY' LIMIT 5\")\n",
    "\n",
    "cursor.execute(query)\n",
    "\n",
    "result = cursor.fetchall()\n",
    "\n",
    "for row in result:\n",
    "  print(row)\n",
    "\n",
    "cnx.close()"
   ]
  }
 ],
 "metadata": {
  "kernelspec": {
   "display_name": "Python 3",
   "language": "python",
   "name": "python3"
  },
  "language_info": {
   "codemirror_mode": {
    "name": "ipython",
    "version": 3
   },
   "file_extension": ".py",
   "mimetype": "text/x-python",
   "name": "python",
   "nbconvert_exporter": "python",
   "pygments_lexer": "ipython3",
   "version": "3.10.7"
  },
  "orig_nbformat": 4
 },
 "nbformat": 4,
 "nbformat_minor": 2
}
