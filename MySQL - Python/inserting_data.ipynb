{
 "cells": [
  {
   "cell_type": "markdown",
   "metadata": {},
   "source": [
    "# INSERTING DATA"
   ]
  },
  {
   "cell_type": "markdown",
   "metadata": {},
   "source": [
    "#### Documentation Sample"
   ]
  },
  {
   "cell_type": "code",
   "execution_count": null,
   "metadata": {},
   "outputs": [],
   "source": [
    "from __future__ import print_function\n",
    "from datetime import date, datetime, timedelta\n",
    "import mysql.connector\n",
    "\n",
    "cnx = mysql.connector.connect(user='scott', database='employees')\n",
    "cursor = cnx.cursor()\n",
    "\n",
    "tomorrow = datetime.now().date() + timedelta(days=1)\n",
    "\n",
    "add_employee = (\"INSERT INTO employees \"\n",
    "               \"(first_name, last_name, hire_date, gender, birth_date) \"\n",
    "               \"VALUES (%s, %s, %s, %s, %s)\")\n",
    "add_salary = (\"INSERT INTO salaries \"\n",
    "              \"(emp_no, salary, from_date, to_date) \"\n",
    "              \"VALUES (%(emp_no)s, %(salary)s, %(from_date)s, %(to_date)s)\")\n",
    "\n",
    "data_employee = ('Geert', 'Vanderkelen', tomorrow, 'M', date(1977, 6, 14))\n",
    "\n",
    "# Insert new employee\n",
    "cursor.execute(add_employee, data_employee)\n",
    "emp_no = cursor.lastrowid\n",
    "\n",
    "# Insert salary information\n",
    "data_salary = {\n",
    "  'emp_no': emp_no,\n",
    "  'salary': 50000,\n",
    "  'from_date': tomorrow,\n",
    "  'to_date': date(9999, 1, 1)\n",
    "}\n",
    "cursor.execute(add_salary, data_salary)\n",
    "\n",
    "# Make sure data is committed to the database\n",
    "cnx.commit()\n",
    "\n",
    "cursor.close()\n",
    "cnx.close()"
   ]
  },
  {
   "cell_type": "markdown",
   "metadata": {},
   "source": [
    "## CASE 1"
   ]
  },
  {
   "cell_type": "code",
   "execution_count": 3,
   "metadata": {},
   "outputs": [],
   "source": [
    "import mysql.connector\n",
    "from datetime import date, datetime\n",
    "\n",
    "cnx = mysql.connector.connect(user='root', passwd = 'PASSWORD', host = 'localhost', database='employees_test_db')\n",
    "\n",
    "cursor = cnx.cursor()\n",
    "\n",
    "sql_command = \"INSERT INTO employees (emp_no, birth_date, first_name, last_name, gender, hire_date) VALUES(%s, %s, %s, %s, %s, %s)\"\n",
    "\n",
    "employee1 = (\"125\", date(1992, 2, 1), \"Saheen\", \"ajksdh\", 'M', datetime.now().date())\n",
    "\n",
    "cursor.execute(sql_command, employee1)\n",
    "\n",
    "cnx.commit()\n",
    "\n",
    "cursor.close()\n",
    "cnx.close()"
   ]
  },
  {
   "cell_type": "code",
   "execution_count": 4,
   "metadata": {},
   "outputs": [
    {
     "name": "stdout",
     "output_type": "stream",
     "text": [
      "(123, datetime.date(1994, 6, 14), 'Raechel', 'Desaouza', 'F', datetime.date(2023, 7, 9))\n",
      "(125, datetime.date(1992, 2, 1), 'Saheen', 'ajksdh', 'M', datetime.date(2023, 7, 9))\n"
     ]
    }
   ],
   "source": [
    "# QUERYING THE DATA FROM THE TABLE\n",
    "\n",
    "import mysql.connector\n",
    "\n",
    "cnx = mysql.connector.connect(user='root', passwd = 'PASSWORD', host = 'localhost', database='employees_test_db')\n",
    "\n",
    "cursor = cnx.cursor()\n",
    "\n",
    "cursor.execute(\"SELECT * FROM employees\")\n",
    "\n",
    "for i in cursor:\n",
    "    print(i)\n",
    "\n",
    "cursor.close()\n",
    "cnx.close()"
   ]
  },
  {
   "cell_type": "code",
   "execution_count": 16,
   "metadata": {},
   "outputs": [
    {
     "name": "stdout",
     "output_type": "stream",
     "text": [
      "(123, datetime.date(1994, 6, 14), 'Raechel', 'Desaouza', 'F', datetime.date(2023, 7, 9))\n"
     ]
    }
   ],
   "source": [
    "import mysql.connector\n",
    "from datetime import date\n",
    "\n",
    "cnx = mysql.connector.connect(user='root', passwd = 'PASSWORD', host = 'localhost', database='employees_test_db')\n",
    "\n",
    "cursor = cnx.cursor()\n",
    "\n",
    "sql_command = \"SELECT * FROM employees WHERE birth_date > %s\"\n",
    "date = [date(1994, 1, 1)]\n",
    "\n",
    "cursor.execute(sql_command, date)\n",
    "\n",
    "for i in cursor:\n",
    "    print(i)\n",
    "\n",
    "cursor.close()\n",
    "cnx.close()"
   ]
  }
 ],
 "metadata": {
  "kernelspec": {
   "display_name": "Python 3",
   "language": "python",
   "name": "python3"
  },
  "language_info": {
   "codemirror_mode": {
    "name": "ipython",
    "version": 3
   },
   "file_extension": ".py",
   "mimetype": "text/x-python",
   "name": "python",
   "nbconvert_exporter": "python",
   "pygments_lexer": "ipython3",
   "version": "3.10.7"
  },
  "orig_nbformat": 4
 },
 "nbformat": 4,
 "nbformat_minor": 2
}
