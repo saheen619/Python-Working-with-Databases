{
 "cells": [
  {
   "cell_type": "code",
   "execution_count": null,
   "metadata": {},
   "outputs": [],
   "source": [
    "https://dev.mysql.com/doc/connector-python/en/"
   ]
  },
  {
   "cell_type": "markdown",
   "metadata": {},
   "source": [
    "### Execute"
   ]
  },
  {
   "cell_type": "code",
   "execution_count": null,
   "metadata": {},
   "outputs": [],
   "source": [
    "import mysql.connector\n",
    "\n",
    "cnx = mysql.connector.connect(user='root', passwd = 'PASSWORD', host = 'localhost')\n",
    "\n",
    "cursor = cnx.cursor()\n",
    "\n",
    "cursor.execute(\"CREATE DATABSE test_db\")\n",
    "\n",
    "cursor.close()\n",
    "cnx.close()"
   ]
  },
  {
   "cell_type": "markdown",
   "metadata": {},
   "source": [
    "### Query"
   ]
  },
  {
   "cell_type": "code",
   "execution_count": 4,
   "metadata": {},
   "outputs": [
    {
     "name": "stdout",
     "output_type": "stream",
     "text": [
      "('bigdatabootcamp',)\n",
      "('bikestore_production',)\n",
      "('bikestore_sales',)\n",
      "('class2_db',)\n",
      "('employees_test_db',)\n",
      "('food_delivery_app',)\n",
      "('ineuron_sql',)\n",
      "('information_schema',)\n",
      "('mysql',)\n",
      "('performance_schema',)\n",
      "('python_connection',)\n",
      "('sakila',)\n",
      "('sql_assignment',)\n",
      "('stored_procedure_bank',)\n",
      "('sys',)\n",
      "('test',)\n",
      "('world',)\n"
     ]
    }
   ],
   "source": [
    "import mysql.connector\n",
    "\n",
    "cnx = mysql.connector.connect(user='root', passwd = 'PASSWORD', host = 'localhost')\n",
    "\n",
    "cursor = cnx.cursor()\n",
    "\n",
    "cursor.execute(\"SHOW DATABASES\")\n",
    "\n",
    "for i in cursor:\n",
    "    print(i)\n",
    "\n",
    "cursor.close()\n",
    "cnx.close()"
   ]
  },
  {
   "cell_type": "code",
   "execution_count": 8,
   "metadata": {},
   "outputs": [
    {
     "name": "stdout",
     "output_type": "stream",
     "text": [
      "('departments',)\n",
      "('dept_emp',)\n",
      "('dept_manager',)\n",
      "('employees',)\n",
      "('salaries',)\n",
      "('titles',)\n"
     ]
    }
   ],
   "source": [
    "import mysql.connector\n",
    "\n",
    "cnx = mysql.connector.connect(user='root', passwd = 'PASSWORD', host = 'localhost', database='employees_test_db')\n",
    "\n",
    "cursor = cnx.cursor()\n",
    "\n",
    "cursor.execute(\"SHOW tables\")\n",
    "\n",
    "for i in cursor:\n",
    "    print(i)\n",
    "\n",
    "cursor.close()\n",
    "cnx.close()"
   ]
  },
  {
   "cell_type": "markdown",
   "metadata": {},
   "source": [
    "### INSERT"
   ]
  },
  {
   "cell_type": "code",
   "execution_count": 11,
   "metadata": {},
   "outputs": [
    {
     "name": "stdout",
     "output_type": "stream",
     "text": [
      "('emp_no', b'int', 'NO', 'PRI', None, 'auto_increment')\n",
      "('birth_date', b'date', 'NO', '', None, '')\n",
      "('first_name', b'varchar(14)', 'NO', '', None, '')\n",
      "('last_name', b'varchar(16)', 'NO', '', None, '')\n",
      "('gender', b\"enum('M','F')\", 'NO', '', None, '')\n",
      "('hire_date', b'date', 'NO', '', None, '')\n"
     ]
    }
   ],
   "source": [
    "import mysql.connector\n",
    "\n",
    "cnx = mysql.connector.connect(user='root', passwd = 'PASSWORD', host = 'localhost', database='employees_test_db')\n",
    "\n",
    "cursor = cnx.cursor()\n",
    "\n",
    "cursor.execute(\"DESCRIBE employees \")\n",
    "\n",
    "for i in cursor:\n",
    "    print(i)\n",
    "\n",
    "cursor.close()\n",
    "cnx.close()"
   ]
  },
  {
   "cell_type": "code",
   "execution_count": 17,
   "metadata": {},
   "outputs": [],
   "source": [
    "import mysql.connector\n",
    "from datetime import date, datetime\n",
    "\n",
    "cnx = mysql.connector.connect(user='root', passwd = 'PASSWORD', host = 'localhost', database='employees_test_db')\n",
    "\n",
    "cursor = cnx.cursor()\n",
    "\n",
    "sql_command = \"INSERT INTO employees (emp_no, birth_date, first_name, last_name, gender, hire_date) VALUES(%s, %s, %s, %s, %s, %s)\"\n",
    "\n",
    "employee1 = (\"123\", date(1994, 6, 14), \"Raechel\", \"Desaouza\", 'F', datetime.now().date())\n",
    "\n",
    "cursor.execute(sql_command, employee1)\n",
    "\n",
    "cnx.commit()\n",
    "\n",
    "cursor.close()\n",
    "cnx.close()"
   ]
  },
  {
   "cell_type": "code",
   "execution_count": 20,
   "metadata": {},
   "outputs": [
    {
     "name": "stdout",
     "output_type": "stream",
     "text": [
      "(123, datetime.date(1994, 6, 14), 'Raechel', 'Desaouza', 'F', datetime.date(2023, 7, 9))\n"
     ]
    }
   ],
   "source": [
    "import mysql.connector\n",
    "\n",
    "cnx = mysql.connector.connect(user='root', passwd = 'PASSWORD', host = 'localhost', database='employees_test_db')\n",
    "\n",
    "cursor = cnx.cursor()\n",
    "\n",
    "cursor.execute(\"SELECT * FROM employees\")\n",
    "\n",
    "for i in cursor:\n",
    "    print(i)\n",
    "\n",
    "cursor.close()\n",
    "cnx.close()"
   ]
  }
 ],
 "metadata": {
  "kernelspec": {
   "display_name": "Python 3",
   "language": "python",
   "name": "python3"
  },
  "language_info": {
   "codemirror_mode": {
    "name": "ipython",
    "version": 3
   },
   "file_extension": ".py",
   "mimetype": "text/x-python",
   "name": "python",
   "nbconvert_exporter": "python",
   "pygments_lexer": "ipython3",
   "version": "3.10.7"
  },
  "orig_nbformat": 4
 },
 "nbformat": 4,
 "nbformat_minor": 2
}
