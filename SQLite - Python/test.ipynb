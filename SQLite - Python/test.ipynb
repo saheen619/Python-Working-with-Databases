{
 "cells": [
  {
   "cell_type": "code",
   "execution_count": 1,
   "metadata": {},
   "outputs": [],
   "source": [
    "import sqlite3"
   ]
  },
  {
   "cell_type": "code",
   "execution_count": 31,
   "metadata": {},
   "outputs": [],
   "source": [
    "db = sqlite3.connect(\"ineuron.db\")\n",
    "\n",
    "# Where ineuron.db is the file_name.format where we store the content (like a text file, hbere we use a db (Database) file, where \n",
    "# we store data in structured format)"
   ]
  },
  {
   "cell_type": "code",
   "execution_count": 3,
   "metadata": {},
   "outputs": [
    {
     "data": {
      "text/plain": [
       "<sqlite3.Connection at 0x24e49d11140>"
      ]
     },
     "execution_count": 3,
     "metadata": {},
     "output_type": "execute_result"
    }
   ],
   "source": [
    "db"
   ]
  },
  {
   "cell_type": "code",
   "execution_count": 4,
   "metadata": {},
   "outputs": [
    {
     "name": "stdout",
     "output_type": "stream",
     "text": [
      " Volume in drive C is Windows-SSD\n",
      " Volume Serial Number is 0AF0-D510\n",
      "\n",
      " Directory of c:\\Users\\sahee\\OneDrive\\Desktop\\Repositories\\Working-with-Databases-using-Python\\SQLite - Python\n",
      "\n",
      "05/17/2023  08:23 PM    <DIR>          .\n",
      "05/17/2023  08:23 PM    <DIR>          ..\n",
      "05/17/2023  08:23 PM                 0 ineuron.db\n",
      "05/17/2023  08:16 PM             1,353 SQLite.txt\n",
      "05/17/2023  08:19 PM                 0 test.ipynb\n",
      "               3 File(s)          1,353 bytes\n",
      "               2 Dir(s)  125,094,739,968 bytes free\n"
     ]
    }
   ],
   "source": [
    "ls"
   ]
  },
  {
   "cell_type": "code",
   "execution_count": 7,
   "metadata": {},
   "outputs": [],
   "source": [
    "# Here, we dont connect to any SQLite server. Instead the file is being operated and stored in the LOCAL SYSTEM in this case,\n",
    "# also we can operate the SQLite db using in-memory (RAM, Cache memory) using a parameter while using the connect(file) statement."
   ]
  },
  {
   "cell_type": "code",
   "execution_count": 8,
   "metadata": {},
   "outputs": [],
   "source": [
    "cursor = db.cursor()"
   ]
  },
  {
   "cell_type": "code",
   "execution_count": 12,
   "metadata": {},
   "outputs": [
    {
     "data": {
      "text/plain": [
       "<sqlite3.Cursor at 0x24e49ce6740>"
      ]
     },
     "execution_count": 12,
     "metadata": {},
     "output_type": "execute_result"
    }
   ],
   "source": [
    "cursor.execute('CREATE TABLE course(name TEXT, batchid INT, marks REAL)')"
   ]
  },
  {
   "cell_type": "code",
   "execution_count": 16,
   "metadata": {},
   "outputs": [
    {
     "name": "stdout",
     "output_type": "stream",
     "text": [
      " Volume in drive C is Windows-SSD\n",
      " Volume Serial Number is 0AF0-D510\n",
      "\n",
      " Directory of c:\\Users\\sahee\\OneDrive\\Desktop\\Repositories\\Working-with-Databases-using-Python\\SQLite - Python\n",
      "\n",
      "05/17/2023  08:36 PM    <DIR>          .\n",
      "05/17/2023  08:36 PM    <DIR>          ..\n",
      "05/17/2023  08:36 PM             8,192 ineuron.db\n",
      "05/17/2023  08:16 PM             1,353 SQLite.txt\n",
      "05/17/2023  08:19 PM                 0 test.ipynb\n",
      "               3 File(s)          9,545 bytes\n",
      "               2 Dir(s)  125,095,882,752 bytes free\n"
     ]
    }
   ],
   "source": [
    "ls"
   ]
  },
  {
   "cell_type": "code",
   "execution_count": 17,
   "metadata": {},
   "outputs": [],
   "source": [
    "# Note that the size of the file ineuron.db has increased"
   ]
  },
  {
   "cell_type": "code",
   "execution_count": 19,
   "metadata": {},
   "outputs": [
    {
     "data": {
      "text/plain": [
       "<sqlite3.Cursor at 0x24e49ce6740>"
      ]
     },
     "execution_count": 19,
     "metadata": {},
     "output_type": "execute_result"
    }
   ],
   "source": [
    "cursor.execute('INSERT INTO course VALUES(\"FSDS\",123,50)')"
   ]
  },
  {
   "cell_type": "code",
   "execution_count": 20,
   "metadata": {},
   "outputs": [
    {
     "name": "stdout",
     "output_type": "stream",
     "text": [
      " Volume in drive C is Windows-SSD\n",
      " Volume Serial Number is 0AF0-D510\n",
      "\n",
      " Directory of c:\\Users\\sahee\\OneDrive\\Desktop\\Repositories\\Working-with-Databases-using-Python\\SQLite - Python\n",
      "\n",
      "05/17/2023  08:40 PM    <DIR>          .\n",
      "05/17/2023  08:40 PM    <DIR>          ..\n",
      "05/17/2023  08:36 PM             8,192 ineuron.db\n",
      "05/17/2023  08:40 PM             4,616 ineuron.db-journal\n",
      "05/17/2023  08:16 PM             1,353 SQLite.txt\n",
      "05/17/2023  08:19 PM                 0 test.ipynb\n",
      "               4 File(s)         14,161 bytes\n",
      "               2 Dir(s)  125,098,455,040 bytes free\n"
     ]
    }
   ],
   "source": [
    "ls"
   ]
  },
  {
   "cell_type": "code",
   "execution_count": 21,
   "metadata": {},
   "outputs": [],
   "source": [
    "# Note that another file has been created automatically -journal in reference to the INSERT Statement"
   ]
  },
  {
   "cell_type": "code",
   "execution_count": 62,
   "metadata": {},
   "outputs": [
    {
     "ename": "OperationalError",
     "evalue": "database is locked",
     "output_type": "error",
     "traceback": [
      "\u001b[1;31m---------------------------------------------------------------------------\u001b[0m",
      "\u001b[1;31mOperationalError\u001b[0m                          Traceback (most recent call last)",
      "Cell \u001b[1;32mIn[62], line 1\u001b[0m\n\u001b[1;32m----> 1\u001b[0m cursor\u001b[39m.\u001b[39;49mexecute(\u001b[39m'\u001b[39;49m\u001b[39mINSERT INTO course VALUES(\u001b[39;49m\u001b[39m\"\u001b[39;49m\u001b[39mFSDS\u001b[39;49m\u001b[39m\"\u001b[39;49m\u001b[39m,123,50)\u001b[39;49m\u001b[39m'\u001b[39;49m)\n\u001b[0;32m      2\u001b[0m cursor\u001b[39m.\u001b[39mexecute(\u001b[39m'\u001b[39m\u001b[39mINSERT INTO course VALUES(\u001b[39m\u001b[39m\"\u001b[39m\u001b[39mFSDS\u001b[39m\u001b[39m\"\u001b[39m\u001b[39m,124,40)\u001b[39m\u001b[39m'\u001b[39m)\n\u001b[0;32m      3\u001b[0m cursor\u001b[39m.\u001b[39mexecute(\u001b[39m'\u001b[39m\u001b[39mINSERT INTO course VALUES(\u001b[39m\u001b[39m\"\u001b[39m\u001b[39mFSDS\u001b[39m\u001b[39m\"\u001b[39m\u001b[39m,125,90)\u001b[39m\u001b[39m'\u001b[39m)\n",
      "\u001b[1;31mOperationalError\u001b[0m: database is locked"
     ]
    }
   ],
   "source": [
    "cursor.execute('INSERT INTO course VALUES(\"FSDS\",123,50)')\n",
    "cursor.execute('INSERT INTO course VALUES(\"FSDS\",124,40)')\n",
    "cursor.execute('INSERT INTO course VALUES(\"FSDS\",125,90)')\n",
    "cursor.execute('INSERT INTO course VALUES(\"FSDS\",126,10)')"
   ]
  },
  {
   "cell_type": "code",
   "execution_count": 24,
   "metadata": {},
   "outputs": [
    {
     "data": {
      "text/plain": [
       "<sqlite3.Cursor at 0x24e49ce6740>"
      ]
     },
     "execution_count": 24,
     "metadata": {},
     "output_type": "execute_result"
    }
   ],
   "source": [
    "cursor.execute('SELECT * FROM course')"
   ]
  },
  {
   "cell_type": "code",
   "execution_count": 25,
   "metadata": {},
   "outputs": [
    {
     "data": {
      "text/plain": [
       "[('FSDS', 123, 50.0),\n",
       " ('FSDS', 123, 50.0),\n",
       " ('FSDS', 123, 50.0),\n",
       " ('FSDS', 123, 50.0),\n",
       " ('FSDS', 123, 50.0),\n",
       " ('FSDS', 123, 50.0),\n",
       " ('FSDS', 123, 50.0),\n",
       " ('FSDS', 123, 50.0),\n",
       " ('FSDS', 123, 50.0)]"
      ]
     },
     "execution_count": 25,
     "metadata": {},
     "output_type": "execute_result"
    }
   ],
   "source": [
    "cursor.fetchall()"
   ]
  },
  {
   "cell_type": "code",
   "execution_count": 32,
   "metadata": {},
   "outputs": [],
   "source": [
    "db.commit()"
   ]
  },
  {
   "cell_type": "code",
   "execution_count": 33,
   "metadata": {},
   "outputs": [],
   "source": [
    "db.close()"
   ]
  },
  {
   "attachments": {},
   "cell_type": "markdown",
   "metadata": {},
   "source": [
    "#### Querying the data from the table"
   ]
  },
  {
   "cell_type": "code",
   "execution_count": 59,
   "metadata": {},
   "outputs": [],
   "source": [
    "db = sqlite3.connect(\"ineuron.db\")\n",
    "cursor = db.cursor()"
   ]
  },
  {
   "cell_type": "code",
   "execution_count": 60,
   "metadata": {},
   "outputs": [
    {
     "data": {
      "text/plain": [
       "<sqlite3.Cursor at 0x24e4b1620c0>"
      ]
     },
     "execution_count": 60,
     "metadata": {},
     "output_type": "execute_result"
    }
   ],
   "source": [
    "cursor.execute('SELECT * FROM course')"
   ]
  },
  {
   "cell_type": "code",
   "execution_count": 55,
   "metadata": {},
   "outputs": [
    {
     "data": {
      "text/plain": [
       "<sqlite3.Cursor at 0x24e4b17ba40>"
      ]
     },
     "execution_count": 55,
     "metadata": {},
     "output_type": "execute_result"
    }
   ],
   "source": [
    "cursor.execute('SELECT * FROM course WHERE batchid = 123')"
   ]
  },
  {
   "cell_type": "code",
   "execution_count": 51,
   "metadata": {},
   "outputs": [],
   "source": [
    "for i in q:\n",
    "    print(i)"
   ]
  },
  {
   "cell_type": "code",
   "execution_count": 61,
   "metadata": {},
   "outputs": [
    {
     "data": {
      "text/plain": [
       "[]"
      ]
     },
     "execution_count": 61,
     "metadata": {},
     "output_type": "execute_result"
    }
   ],
   "source": [
    "cursor.fetchall()"
   ]
  }
 ],
 "metadata": {
  "kernelspec": {
   "display_name": "Python 3",
   "language": "python",
   "name": "python3"
  },
  "language_info": {
   "codemirror_mode": {
    "name": "ipython",
    "version": 3
   },
   "file_extension": ".py",
   "mimetype": "text/x-python",
   "name": "python",
   "nbconvert_exporter": "python",
   "pygments_lexer": "ipython3",
   "version": "3.10.7"
  },
  "orig_nbformat": 4
 },
 "nbformat": 4,
 "nbformat_minor": 2
}
