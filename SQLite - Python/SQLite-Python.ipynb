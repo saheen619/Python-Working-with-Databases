{
 "cells": [
  {
   "cell_type": "code",
   "execution_count": 2,
   "metadata": {},
   "outputs": [],
   "source": [
    "import sqlite3"
   ]
  },
  {
   "cell_type": "code",
   "execution_count": 3,
   "metadata": {},
   "outputs": [],
   "source": [
    "db = sqlite3.connect(\"ineuron.db\")\n",
    "\n",
    "# Where ineuron.db is the file_name.format where we store the content (like a text file, hbere we use a db (Database) file, where \n",
    "# we store data in structured format)"
   ]
  },
  {
   "cell_type": "code",
   "execution_count": 4,
   "metadata": {},
   "outputs": [
    {
     "data": {
      "text/plain": [
       "<sqlite3.Connection at 0x2f456b03b40>"
      ]
     },
     "execution_count": 4,
     "metadata": {},
     "output_type": "execute_result"
    }
   ],
   "source": [
    "db"
   ]
  },
  {
   "cell_type": "code",
   "execution_count": 4,
   "metadata": {},
   "outputs": [
    {
     "name": "stdout",
     "output_type": "stream",
     "text": [
      " Volume in drive C is Windows-SSD\n",
      " Volume Serial Number is 0AF0-D510\n",
      "\n",
      " Directory of c:\\Users\\sahee\\OneDrive\\Desktop\\Repositories\\Working-with-Databases-using-Python\\SQLite - Python\n",
      "\n",
      "05/17/2023  08:23 PM    <DIR>          .\n",
      "05/17/2023  08:23 PM    <DIR>          ..\n",
      "05/17/2023  08:23 PM                 0 ineuron.db\n",
      "05/17/2023  08:16 PM             1,353 SQLite.txt\n",
      "05/17/2023  08:19 PM                 0 test.ipynb\n",
      "               3 File(s)          1,353 bytes\n",
      "               2 Dir(s)  125,094,739,968 bytes free\n"
     ]
    }
   ],
   "source": [
    "ls"
   ]
  },
  {
   "cell_type": "code",
   "execution_count": 7,
   "metadata": {},
   "outputs": [],
   "source": [
    "# Here, we dont connect to any SQLite server. Instead the file is being operated and stored in the LOCAL SYSTEM in this case,\n",
    "# also we can operate the SQLite db using in-memory (RAM, Cache memory) using a parameter while using the connect(file) statement."
   ]
  },
  {
   "cell_type": "code",
   "execution_count": 5,
   "metadata": {},
   "outputs": [],
   "source": [
    "cursor = db.cursor()"
   ]
  },
  {
   "cell_type": "code",
   "execution_count": 12,
   "metadata": {},
   "outputs": [
    {
     "data": {
      "text/plain": [
       "<sqlite3.Cursor at 0x24e49ce6740>"
      ]
     },
     "execution_count": 12,
     "metadata": {},
     "output_type": "execute_result"
    }
   ],
   "source": [
    "cursor.execute('CREATE TABLE course(name TEXT, batchid INT, marks REAL)')"
   ]
  },
  {
   "cell_type": "code",
   "execution_count": 16,
   "metadata": {},
   "outputs": [
    {
     "name": "stdout",
     "output_type": "stream",
     "text": [
      " Volume in drive C is Windows-SSD\n",
      " Volume Serial Number is 0AF0-D510\n",
      "\n",
      " Directory of c:\\Users\\sahee\\OneDrive\\Desktop\\Repositories\\Working-with-Databases-using-Python\\SQLite - Python\n",
      "\n",
      "05/17/2023  08:36 PM    <DIR>          .\n",
      "05/17/2023  08:36 PM    <DIR>          ..\n",
      "05/17/2023  08:36 PM             8,192 ineuron.db\n",
      "05/17/2023  08:16 PM             1,353 SQLite.txt\n",
      "05/17/2023  08:19 PM                 0 test.ipynb\n",
      "               3 File(s)          9,545 bytes\n",
      "               2 Dir(s)  125,095,882,752 bytes free\n"
     ]
    }
   ],
   "source": [
    "ls"
   ]
  },
  {
   "cell_type": "code",
   "execution_count": 17,
   "metadata": {},
   "outputs": [],
   "source": [
    "# Note that the size of the file ineuron.db has increased"
   ]
  },
  {
   "cell_type": "code",
   "execution_count": 12,
   "metadata": {},
   "outputs": [
    {
     "data": {
      "text/plain": [
       "<sqlite3.Cursor at 0x2f457f1ea40>"
      ]
     },
     "execution_count": 12,
     "metadata": {},
     "output_type": "execute_result"
    }
   ],
   "source": [
    "cursor.execute('INSERT INTO course VALUES(\"FSDS\",123,50)')"
   ]
  },
  {
   "cell_type": "code",
   "execution_count": 20,
   "metadata": {},
   "outputs": [
    {
     "name": "stdout",
     "output_type": "stream",
     "text": [
      " Volume in drive C is Windows-SSD\n",
      " Volume Serial Number is 0AF0-D510\n",
      "\n",
      " Directory of c:\\Users\\sahee\\OneDrive\\Desktop\\Repositories\\Working-with-Databases-using-Python\\SQLite - Python\n",
      "\n",
      "05/17/2023  08:40 PM    <DIR>          .\n",
      "05/17/2023  08:40 PM    <DIR>          ..\n",
      "05/17/2023  08:36 PM             8,192 ineuron.db\n",
      "05/17/2023  08:40 PM             4,616 ineuron.db-journal\n",
      "05/17/2023  08:16 PM             1,353 SQLite.txt\n",
      "05/17/2023  08:19 PM                 0 test.ipynb\n",
      "               4 File(s)         14,161 bytes\n",
      "               2 Dir(s)  125,098,455,040 bytes free\n"
     ]
    }
   ],
   "source": [
    "ls"
   ]
  },
  {
   "cell_type": "code",
   "execution_count": 21,
   "metadata": {},
   "outputs": [],
   "source": [
    "# Note that another file has been created automatically -journal in reference to the INSERT Statement"
   ]
  },
  {
   "cell_type": "code",
   "execution_count": 9,
   "metadata": {},
   "outputs": [
    {
     "data": {
      "text/plain": [
       "<sqlite3.Cursor at 0x2f457f1ea40>"
      ]
     },
     "execution_count": 9,
     "metadata": {},
     "output_type": "execute_result"
    }
   ],
   "source": [
    "cursor.execute('INSERT INTO course VALUES(\"FSDS\",123,50)')\n",
    "cursor.execute('INSERT INTO course VALUES(\"FSDS\",124,40)')\n",
    "cursor.execute('INSERT INTO course VALUES(\"FSDS\",125,90)')\n",
    "cursor.execute('INSERT INTO course VALUES(\"FSDS\",126,10)')"
   ]
  },
  {
   "cell_type": "code",
   "execution_count": 13,
   "metadata": {},
   "outputs": [
    {
     "data": {
      "text/plain": [
       "<sqlite3.Cursor at 0x2f457f1ea40>"
      ]
     },
     "execution_count": 13,
     "metadata": {},
     "output_type": "execute_result"
    }
   ],
   "source": [
    "cursor.execute('SELECT * FROM course')"
   ]
  },
  {
   "cell_type": "code",
   "execution_count": 14,
   "metadata": {},
   "outputs": [
    {
     "data": {
      "text/plain": [
       "[('FSDS', 123, 50.0),\n",
       " ('FSDS', 124, 40.0),\n",
       " ('FSDS', 125, 90.0),\n",
       " ('FSDS', 126, 10.0),\n",
       " ('FSDS', 123, 50.0)]"
      ]
     },
     "execution_count": 14,
     "metadata": {},
     "output_type": "execute_result"
    }
   ],
   "source": [
    "cursor.fetchall()"
   ]
  },
  {
   "cell_type": "code",
   "execution_count": 15,
   "metadata": {},
   "outputs": [],
   "source": [
    "db.commit()"
   ]
  },
  {
   "cell_type": "code",
   "execution_count": null,
   "metadata": {},
   "outputs": [],
   "source": [
    "# Note that the -journal file will be merged with <database.db> file when you commit() "
   ]
  },
  {
   "cell_type": "code",
   "execution_count": 16,
   "metadata": {},
   "outputs": [],
   "source": [
    "db.close()"
   ]
  },
  {
   "attachments": {},
   "cell_type": "markdown",
   "metadata": {},
   "source": [
    "#### Querying the data from the table"
   ]
  },
  {
   "cell_type": "code",
   "execution_count": 17,
   "metadata": {},
   "outputs": [],
   "source": [
    "import sqlite3\n",
    "\n",
    "db = sqlite3.connect(\"ineuron.db\")\n",
    "cursor = db.cursor()"
   ]
  },
  {
   "cell_type": "code",
   "execution_count": 22,
   "metadata": {},
   "outputs": [],
   "source": [
    "q = cursor.execute('SELECT * FROM course WHERE marks > 51')"
   ]
  },
  {
   "cell_type": "code",
   "execution_count": 23,
   "metadata": {},
   "outputs": [
    {
     "name": "stdout",
     "output_type": "stream",
     "text": [
      "('FSDS', 125, 90.0)\n"
     ]
    }
   ],
   "source": [
    "for i in q:\n",
    "    print(i)"
   ]
  },
  {
   "cell_type": "code",
   "execution_count": 24,
   "metadata": {},
   "outputs": [],
   "source": [
    "db.close()"
   ]
  },
  {
   "cell_type": "code",
   "execution_count": 25,
   "metadata": {},
   "outputs": [],
   "source": [
    "# Creating a new db"
   ]
  },
  {
   "cell_type": "code",
   "execution_count": 26,
   "metadata": {},
   "outputs": [],
   "source": [
    "db = sqlite3.connect('person.db')\n",
    "cursor = db.cursor()"
   ]
  },
  {
   "cell_type": "code",
   "execution_count": 27,
   "metadata": {},
   "outputs": [
    {
     "data": {
      "text/plain": [
       "<sqlite3.Cursor at 0x2f457f4d340>"
      ]
     },
     "execution_count": 27,
     "metadata": {},
     "output_type": "execute_result"
    }
   ],
   "source": [
    "cursor.execute('CREATE TABLE person_table(name text, email text, age int, salary int)')"
   ]
  },
  {
   "cell_type": "code",
   "execution_count": 30,
   "metadata": {},
   "outputs": [
    {
     "data": {
      "text/plain": [
       "<sqlite3.Cursor at 0x2f457f4d340>"
      ]
     },
     "execution_count": 30,
     "metadata": {},
     "output_type": "execute_result"
    }
   ],
   "source": [
    "cursor.execute(\"INSERT INTO person_table VALUES('sudh','sudh@gmail.com',32,20000)\")\n",
    "cursor.execute(\"INSERT INTO person_table VALUES('sah','sah@gmail.com',28,20000)\")\n",
    "cursor.execute(\"INSERT INTO person_table VALUES('ahza','ahza@gmail.com',25,25000)\")\n",
    "cursor.execute(\"INSERT INTO person_table VALUES('raj','raj@gmail.com',32,30000)\")\n",
    "cursor.execute(\"INSERT INTO person_table VALUES('hiz','hiz@gmail.com',24,25000)\")\n",
    "cursor.execute(\"INSERT INTO person_table VALUES('far','far@gmail.com',21,10000)\")"
   ]
  },
  {
   "cell_type": "code",
   "execution_count": 31,
   "metadata": {},
   "outputs": [
    {
     "name": "stdout",
     "output_type": "stream",
     "text": [
      "('sudh', 'sudh@gmail.com', 32, 20000)\n",
      "('sah', 'sah@gmail.com', 28, 20000)\n",
      "('ahza', 'ahza@gmail.com', 25, 25000)\n",
      "('raj', 'raj@gmail.com', 32, 30000)\n",
      "('hiz', 'hiz@gmail.com', 24, 25000)\n",
      "('far', 'far@gmail.com', 21, 10000)\n"
     ]
    }
   ],
   "source": [
    "q = cursor.execute('SELECT * FROM person_table')\n",
    "\n",
    "for i in q:\n",
    "    print (i)"
   ]
  },
  {
   "cell_type": "code",
   "execution_count": 32,
   "metadata": {},
   "outputs": [
    {
     "name": "stdout",
     "output_type": "stream",
     "text": [
      " Volume in drive C is Windows-SSD\n",
      " Volume Serial Number is 0AF0-D510\n",
      "\n",
      " Directory of c:\\Users\\sahee\\OneDrive\\Desktop\\Repositories\\Working-with-Databases-using-Python\\SQLite - Python\n",
      "\n",
      "05/17/2023  09:15 PM    <DIR>          .\n",
      "05/17/2023  09:15 PM    <DIR>          ..\n",
      "05/17/2023  09:05 PM             8,192 ineuron.db\n",
      "05/17/2023  09:11 PM             8,192 person.db\n",
      "05/17/2023  09:15 PM             4,616 person.db-journal\n",
      "05/17/2023  08:51 PM             1,440 SQLite.txt\n",
      "05/17/2023  09:03 PM            10,057 test.ipynb\n",
      "               5 File(s)         32,497 bytes\n",
      "               2 Dir(s)  125,219,799,040 bytes free\n"
     ]
    }
   ],
   "source": [
    "ls"
   ]
  },
  {
   "cell_type": "code",
   "execution_count": 33,
   "metadata": {},
   "outputs": [],
   "source": [
    "db.commit()"
   ]
  },
  {
   "cell_type": "code",
   "execution_count": 34,
   "metadata": {},
   "outputs": [],
   "source": [
    "db.close()"
   ]
  },
  {
   "attachments": {},
   "cell_type": "markdown",
   "metadata": {},
   "source": [
    "## JOIN OPERATIONS"
   ]
  },
  {
   "cell_type": "code",
   "execution_count": 5,
   "metadata": {},
   "outputs": [],
   "source": [
    "import sqlite3\n",
    "\n",
    "db = sqlite3.connect(\"jobdb.db\")\n",
    "cursor = db.cursor()"
   ]
  },
  {
   "cell_type": "code",
   "execution_count": 38,
   "metadata": {},
   "outputs": [
    {
     "data": {
      "text/plain": [
       "<sqlite3.Cursor at 0x2f457f4c440>"
      ]
     },
     "execution_count": 38,
     "metadata": {},
     "output_type": "execute_result"
    }
   ],
   "source": [
    "cursor.execute(\"CREATE TABLE student(student_id int, student_name text, student_mailid text, marks int)\")"
   ]
  },
  {
   "cell_type": "code",
   "execution_count": 39,
   "metadata": {},
   "outputs": [
    {
     "data": {
      "text/plain": [
       "<sqlite3.Cursor at 0x2f457f4c440>"
      ]
     },
     "execution_count": 39,
     "metadata": {},
     "output_type": "execute_result"
    }
   ],
   "source": [
    "cursor.execute(\"CREATE TABLE address(student_id int, pincode int, location text, phone int)\")"
   ]
  },
  {
   "cell_type": "code",
   "execution_count": 40,
   "metadata": {},
   "outputs": [
    {
     "data": {
      "text/plain": [
       "<sqlite3.Cursor at 0x2f457f4c440>"
      ]
     },
     "execution_count": 40,
     "metadata": {},
     "output_type": "execute_result"
    }
   ],
   "source": [
    "cursor.execute(\"INSERT INTO student VALUES(123, 'SAH', 'sah@gmail.com', 40)\")\n",
    "cursor.execute(\"INSERT INTO student VALUES(124, 'AHZA', 'ahza@gmail.com', 50)\")\n",
    "cursor.execute(\"INSERT INTO student VALUES(125, 'HIZ', 'hiz@gmail.com', 60)\")\n",
    "cursor.execute(\"INSERT INTO student VALUES(126, 'FAR', 'far@gmail.com', 70)\")\n",
    "cursor.execute(\"INSERT INTO student VALUES(127, 'FAT', 'fat@gmail.com', 40)\")\n",
    "cursor.execute(\"INSERT INTO student VALUES(128, 'ANV', 'anv@gmail.com', 50)\")"
   ]
  },
  {
   "cell_type": "code",
   "execution_count": 41,
   "metadata": {},
   "outputs": [
    {
     "data": {
      "text/plain": [
       "<sqlite3.Cursor at 0x2f457f4c440>"
      ]
     },
     "execution_count": 41,
     "metadata": {},
     "output_type": "execute_result"
    }
   ],
   "source": [
    "cursor.execute(\"INSERT INTO address VALUES(123, '123456', 'TVM', 1234567890)\")\n",
    "cursor.execute(\"INSERT INTO address VALUES(124, '523226', 'KLM', 1234567890)\")\n",
    "cursor.execute(\"INSERT INTO address VALUES(125, '266263', 'EKM', 1234567890)\")\n",
    "cursor.execute(\"INSERT INTO address VALUES(126, '266226', 'TVM', 1234567890)\")\n",
    "cursor.execute(\"INSERT INTO address VALUES(127, '252652', 'MUM', 1234567890)\")\n",
    "cursor.execute(\"INSERT INTO address VALUES(128, '252556', 'DEL', 1234567890)\")"
   ]
  },
  {
   "cell_type": "code",
   "execution_count": 42,
   "metadata": {},
   "outputs": [
    {
     "name": "stdout",
     "output_type": "stream",
     "text": [
      "(123, 'SAH', 'sah@gmail.com', 40)\n",
      "(124, 'AHZA', 'ahza@gmail.com', 50)\n",
      "(125, 'HIZ', 'hiz@gmail.com', 60)\n",
      "(126, 'FAR', 'far@gmail.com', 70)\n",
      "(127, 'FAT', 'fat@gmail.com', 40)\n",
      "(128, 'ANV', 'anv@gmail.com', 50)\n"
     ]
    }
   ],
   "source": [
    "q = cursor.execute('SELECT * FROM student')\n",
    "for i in q:\n",
    "    print(i)"
   ]
  },
  {
   "cell_type": "code",
   "execution_count": 43,
   "metadata": {},
   "outputs": [
    {
     "name": "stdout",
     "output_type": "stream",
     "text": [
      "(123, 123456, 'TVM', 1234567890)\n",
      "(124, 523226, 'KLM', 1234567890)\n",
      "(125, 266263, 'EKM', 1234567890)\n",
      "(126, 266226, 'TVM', 1234567890)\n",
      "(127, 252652, 'MUM', 1234567890)\n",
      "(128, 252556, 'DEL', 1234567890)\n"
     ]
    }
   ],
   "source": [
    "q1 = cursor.execute('SELECT * FROM address')\n",
    "for i in q1:\n",
    "    print(i)"
   ]
  },
  {
   "cell_type": "code",
   "execution_count": 45,
   "metadata": {},
   "outputs": [
    {
     "data": {
      "text/plain": [
       "<sqlite3.Cursor at 0x2f457f4c440>"
      ]
     },
     "execution_count": 45,
     "metadata": {},
     "output_type": "execute_result"
    }
   ],
   "source": [
    "cursor.execute(\"SELECT s.*, a.pincode, a.location, a.phone FROM student s JOIN address a ON s.student_id = a.student_id\")"
   ]
  },
  {
   "cell_type": "code",
   "execution_count": 46,
   "metadata": {},
   "outputs": [
    {
     "data": {
      "text/plain": [
       "[(123, 'SAH', 'sah@gmail.com', 40, 123456, 'TVM', 1234567890),\n",
       " (124, 'AHZA', 'ahza@gmail.com', 50, 523226, 'KLM', 1234567890),\n",
       " (125, 'HIZ', 'hiz@gmail.com', 60, 266263, 'EKM', 1234567890),\n",
       " (126, 'FAR', 'far@gmail.com', 70, 266226, 'TVM', 1234567890),\n",
       " (127, 'FAT', 'fat@gmail.com', 40, 252652, 'MUM', 1234567890),\n",
       " (128, 'ANV', 'anv@gmail.com', 50, 252556, 'DEL', 1234567890)]"
      ]
     },
     "execution_count": 46,
     "metadata": {},
     "output_type": "execute_result"
    }
   ],
   "source": [
    "cursor.fetchall()"
   ]
  },
  {
   "attachments": {},
   "cell_type": "markdown",
   "metadata": {},
   "source": [
    "### Delete Operation"
   ]
  },
  {
   "cell_type": "code",
   "execution_count": 48,
   "metadata": {},
   "outputs": [
    {
     "data": {
      "text/plain": [
       "<sqlite3.Cursor at 0x2f457f4c440>"
      ]
     },
     "execution_count": 48,
     "metadata": {},
     "output_type": "execute_result"
    }
   ],
   "source": [
    "cursor.execute(\"DELETE FROM student WHERE student_id = 123\")"
   ]
  },
  {
   "cell_type": "code",
   "execution_count": 49,
   "metadata": {},
   "outputs": [
    {
     "name": "stdout",
     "output_type": "stream",
     "text": [
      "(124, 'AHZA', 'ahza@gmail.com', 50)\n",
      "(125, 'HIZ', 'hiz@gmail.com', 60)\n",
      "(126, 'FAR', 'far@gmail.com', 70)\n",
      "(127, 'FAT', 'fat@gmail.com', 40)\n",
      "(128, 'ANV', 'anv@gmail.com', 50)\n"
     ]
    }
   ],
   "source": [
    "q = cursor.execute('SELECT * FROM student')\n",
    "\n",
    "for i in q:\n",
    "    print(i)"
   ]
  },
  {
   "attachments": {},
   "cell_type": "markdown",
   "metadata": {},
   "source": [
    "### Update Operation"
   ]
  },
  {
   "cell_type": "code",
   "execution_count": 52,
   "metadata": {},
   "outputs": [
    {
     "data": {
      "text/plain": [
       "<sqlite3.Cursor at 0x2f457f4c440>"
      ]
     },
     "execution_count": 52,
     "metadata": {},
     "output_type": "execute_result"
    }
   ],
   "source": [
    "cursor.execute(\"UPDATE student SET student_id = 300 WHERE student_name = 'HIZ'\")"
   ]
  },
  {
   "cell_type": "code",
   "execution_count": 7,
   "metadata": {},
   "outputs": [],
   "source": [
    "q = cursor.execute('SELECT * FROM student')\n",
    "\n",
    "for i in q:\n",
    "    print(i)"
   ]
  },
  {
   "cell_type": "code",
   "execution_count": 4,
   "metadata": {},
   "outputs": [],
   "source": [
    "db.commit()"
   ]
  }
 ],
 "metadata": {
  "kernelspec": {
   "display_name": "Python 3",
   "language": "python",
   "name": "python3"
  },
  "language_info": {
   "codemirror_mode": {
    "name": "ipython",
    "version": 3
   },
   "file_extension": ".py",
   "mimetype": "text/x-python",
   "name": "python",
   "nbconvert_exporter": "python",
   "pygments_lexer": "ipython3",
   "version": "3.10.7"
  },
  "orig_nbformat": 4
 },
 "nbformat": 4,
 "nbformat_minor": 2
}
